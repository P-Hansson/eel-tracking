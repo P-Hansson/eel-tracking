{
 "cells": [
  {
   "cell_type": "code",
   "execution_count": null,
   "id": "6e3da1d5",
   "metadata": {},
   "outputs": [],
   "source": [
    "#### Creates an image for boundary analysis\n",
    "\n",
    "import cv2\n",
    "import os\n",
    "import shutil\n",
    "\n",
    "def clear_filepath(directory):\n",
    "    for dirpath,_, filenames in os.walk(directory):\n",
    "        for files in filenames:\n",
    "            if not files.startswith(\".\"):\n",
    "                yield os.path.abspath(os.path.join(dirpath,files))\n",
    "\n",
    "video_list_path = list(clear_filepath(\"eel_detection/videos/missing_boundaries\"))\n",
    "print(video_list_path)\n",
    "\n",
    "for video in video_list_path:\n",
    "    print(video)\n",
    "    vid_name = os.path.basename(video)\n",
    "    img_name = vid_name.removesuffix(\".mp4\") + \".jpg\"\n",
    "    print(img_name)\n",
    "    dest_img = (\"create_boundaries/images/\" + img_name)\n",
    "    dest_vid = (\"eel_detection/videos/to_analyse/\" + vid_name)\n",
    "    \n",
    "    vidcap = cv2.VideoCapture(video)\n",
    "    \n",
    "    ok, image = vidcap.read()\n",
    "    cv2.imwrite(dest_img, image)\n",
    "    \n",
    "    shutil.move(video, dest_vid)\n",
    "    print(\"Video done\")\n",
    "    vidcap.release()\n",
    "    \n",
    "print(\"Done\")"
   ]
  }
 ],
 "metadata": {
  "kernelspec": {
   "display_name": "Python 3 (ipykernel)",
   "language": "python",
   "name": "python3"
  },
  "language_info": {
   "codemirror_mode": {
    "name": "ipython",
    "version": 3
   },
   "file_extension": ".py",
   "mimetype": "text/x-python",
   "name": "python",
   "nbconvert_exporter": "python",
   "pygments_lexer": "ipython3",
   "version": "3.9.13"
  }
 },
 "nbformat": 4,
 "nbformat_minor": 5
}
